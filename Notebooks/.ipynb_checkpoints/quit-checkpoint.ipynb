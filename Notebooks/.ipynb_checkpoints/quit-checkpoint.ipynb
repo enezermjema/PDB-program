{
 "cells": [
  {
   "cell_type": "markdown",
   "metadata": {},
   "source": [
    "### Quit option\n",
    "- Below code is for terminating the program."
   ]
  },
  {
   "cell_type": "code",
   "execution_count": null,
   "metadata": {},
   "outputs": [],
   "source": [
    "print( \"\"\"\n",
    "OPTIONS: \n",
    "        READ (R)\n",
    "        \n",
    "        SEARCH (S)\n",
    "        \n",
    "        WRITE (W)\n",
    "        \n",
    "        INFORMATION (I)\n",
    "        \n",
    "        ALIGNMENT (A)\n",
    "        \n",
    "        HELP (H)\n",
    "        \n",
    "        QUIT (Q)\n",
    "\"\"\")    \n",
    "\n",
    "global option\n",
    "option = input(\":\") \n",
    "option_list = ['R','S','W','I','A','H','Q']\n",
    "if option not in option_list:\n",
    "    print(\"Invalid option \\nEnter a valid option\")\n",
    "elif option == 'Q': \n",
    "    print(\n",
    "    \"\"\"\n",
    "    PROGRAM TERMINATED\\n\n",
    "    BYE...\n",
    "    \"\"\")"
   ]
  }
 ],
 "metadata": {
  "kernelspec": {
   "display_name": "Python 3",
   "language": "python",
   "name": "python3"
  },
  "language_info": {
   "codemirror_mode": {
    "name": "ipython",
    "version": 3
   },
   "file_extension": ".py",
   "mimetype": "text/x-python",
   "name": "python",
   "nbconvert_exporter": "python",
   "pygments_lexer": "ipython3",
   "version": "3.7.4"
  }
 },
 "nbformat": 4,
 "nbformat_minor": 4
}
