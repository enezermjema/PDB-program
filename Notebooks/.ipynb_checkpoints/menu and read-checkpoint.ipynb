{
 "cells": [
  {
   "cell_type": "markdown",
   "metadata": {},
   "source": [
    "# **PDB Software.**"
   ]
  },
  {
   "cell_type": "markdown",
   "metadata": {},
   "source": [
    "### Creating main menu..."
   ]
  },
  {
   "cell_type": "code",
   "execution_count": null,
   "metadata": {},
   "outputs": [],
   "source": [
    "print( \"\"\"\n",
    "\n",
    "OPTIONS: \n",
    "        READ (R)\n",
    "        \n",
    "        SEARCH (S)\n",
    "        \n",
    "        WRITE (W)\n",
    "        \n",
    "        INFORMATION (I)\n",
    "        \n",
    "        ALIGNMENT (A)\n",
    "        \n",
    "        HELP (H)\n",
    "        \n",
    "        QUIT (Q)\n",
    "\"\"\")    \n",
    "\n",
    "global option\n",
    "option = input(\":\") \n",
    "#input(\"Please enter 'R' for read, 'S' for search, 'W' for write, 'I' for Information, 'A' for alignment, 'H' for Help or 'Q' for quit option: \")        "
   ]
  }
 ],
 "metadata": {
  "kernelspec": {
   "display_name": "Python 3",
   "language": "python",
   "name": "python3"
  },
  "language_info": {
   "codemirror_mode": {
    "name": "ipython",
    "version": 3
   },
   "file_extension": ".py",
   "mimetype": "text/x-python",
   "name": "python",
   "nbconvert_exporter": "python",
   "pygments_lexer": "ipython3",
   "version": "3.7.4"
  }
 },
 "nbformat": 4,
 "nbformat_minor": 4
}
