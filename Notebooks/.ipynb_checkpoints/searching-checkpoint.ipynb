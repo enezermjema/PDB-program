{
 "cells": [
  {
   "cell_type": "markdown",
   "metadata": {},
   "source": [
    "### Search option."
   ]
  },
  {
   "cell_type": "code",
   "execution_count": null,
   "metadata": {},
   "outputs": [],
   "source": [
    "if option.lower() == 's':\n",
    "    import re\n",
    "    \n",
    "    print(file_list)\n",
    "    File = input(\"choose a file to work with:\")\n",
    "    file_path = path + File\n",
    "\n",
    "    with open(file_path, \"r\") as output:\n",
    "       # with open(\"/home/enezer/python-mini-project-enezermjema/data/1dm9.pdb\", 'w') as enezer:\n",
    "        residues = []\n",
    "        list1 = []\n",
    "        for line in output:\n",
    "            if line.startswith(\"SEQRES\"):\n",
    "                linesplit = line.split()\n",
    "                if linesplit[2] == \"A\":\n",
    "                    residues.append(linesplit[4:])\n",
    "        Amino_dict = {'ALA':'A','CYS':'C','ASP':'D','GLU':'E','PCA':'E','PHE':'F','GLY':'G','HIS':'H','ILE':'I','LYS':'K','LEU':'L','MET':'M',\n",
    "                   'ASN':'N','PRO':'P','GLN':'Q','ARG':'R','SER':'S','THR':'T','VAL':'V','TRP':'W','TYR':'Y','LLP':'K'}\n",
    "\n",
    "        single_code  = 'TRIMDYIIYRFLLIFGAPTMALFVLTKAYPFLQNYGYAPTLNIPITGSMDTVYSNSTLAPTREEIFYAFTLTSTLCLYYGAWGP'\n",
    "        for lis_list in residues:                                                    \n",
    "            for residue in list1:                          \n",
    "                list1.append(residue)\n",
    "        #global three_letter\n",
    "        three_letter = \"\".join(Amino_dict[x] for x in list1)\n",
    "\n",
    "        pattern = re.compile(r'[GYL]A[PFW][TLVGMT]')\n",
    "        matches = pattern.finditer(single_code)\n",
    "        \n",
    "        matches_tup = tuple(matches)\n",
    "        print(\"The number of glycoslation site is %d\"%(len(matches_tup)))\n",
    "\n",
    "        \n",
    "        #for match in matches:\n",
    "          #  print(match)\n",
    "            \n",
    "        #for line in output:\n",
    "            #if line.startswith(\"SEQRES\"):\n",
    "               # linesplit = line.split()\n",
    "                #if linesplit[2] == \"A\":\n",
    "                   # if line == pattern:\n",
    "                       # print(line)\n",
    "\n",
    "\n",
    "\n"
   ]
  }
 ],
 "metadata": {
  "kernelspec": {
   "display_name": "Python 3",
   "language": "python",
   "name": "python3"
  },
  "language_info": {
   "codemirror_mode": {
    "name": "ipython",
    "version": 3
   },
   "file_extension": ".py",
   "mimetype": "text/x-python",
   "name": "python",
   "nbconvert_exporter": "python",
   "pygments_lexer": "ipython3",
   "version": "3.7.4"
  }
 },
 "nbformat": 4,
 "nbformat_minor": 4
}
