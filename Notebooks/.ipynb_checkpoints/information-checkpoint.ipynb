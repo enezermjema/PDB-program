{
 "cells": [
  {
   "cell_type": "code",
   "execution_count": null,
   "metadata": {},
   "outputs": [],
   "source": [
    "elif option == 'I':\n",
    "    print(file_list)\n",
    "    File = input(\"choose a file to work with:\")\n",
    "    file_path = path + File\n",
    "    \n",
    "    print(\"\"\"\n",
    "    SUB-OPTIONS:\n",
    "            Display coordinate sequence (1)\n",
    "            Display SEQRES sequence (2)\n",
    "            Display Alignment sequence (3)\n",
    "            Display all non-water ligands in the protein (4)\n",
    "    \"\"\")\n",
    "    global choice\n",
    "    choice = input('Enter a Sub-opton:')\n",
    "    if choice == '1':\n",
    "        with open(filepath, 'r') as amino:\n",
    "            for x in amino:\n",
    "                if x.startswith(\"ATOM\"):\n",
    "                    z = x.split()\n",
    "                    coordinate_index = z[6:10]\n",
    "                    y = \"\\t\".join(coordinate_index)\n",
    "                    j = y+'\\n'\n",
    "                    print(j)\n",
    "\n",
    "    elif choice == '2':\n",
    "        print(file_list)\n",
    "        File = input(\"choose a file to work with:\")\n",
    "        file_path = path + File\n",
    "        with open(filepath, 'r') as amino:\n",
    "            for line in amino:\n",
    "                if line.startswith(\"SEQRES\"):\n",
    "                    linesplit = line.split()\n",
    "                    if linesplit[2] == \"A\":\n",
    "                        print(line)\n",
    "\n",
    "\n",
    "            "
   ]
  }
 ],
 "metadata": {
  "kernelspec": {
   "display_name": "Python 3",
   "language": "python",
   "name": "python3"
  },
  "language_info": {
   "codemirror_mode": {
    "name": "ipython",
    "version": 3
   },
   "file_extension": ".py",
   "mimetype": "text/x-python",
   "name": "python",
   "nbconvert_exporter": "python",
   "pygments_lexer": "ipython3",
   "version": "3.7.4"
  }
 },
 "nbformat": 4,
 "nbformat_minor": 4
}
