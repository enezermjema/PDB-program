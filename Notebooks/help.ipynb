{
 "cells": [
  {
   "cell_type": "markdown",
   "metadata": {},
   "source": [
    "### Information option.\n",
    "- This option is for displaying short description about other options in the program."
   ]
  },
  {
   "cell_type": "code",
   "execution_count": null,
   "metadata": {},
   "outputs": [],
   "source": [
    "print( \"\"\"\n",
    "\n",
    "OPTIONS: \n",
    "        READ (R)\n",
    "        \n",
    "        SEARCH (S)\n",
    "        \n",
    "        WRITE (W)\n",
    "        \n",
    "        INFORMATION (I)\n",
    "        \n",
    "        ALIGNMENT (A)\n",
    "        \n",
    "        HELP (H)\n",
    "        \n",
    "        QUIT (Q)\n",
    "\"\"\")    \n",
    "\n",
    "global option\n",
    "option = input(\":\") \n",
    "option_list = ['R','S','W','I','A','H','Q']\n",
    "\n",
    "if option not in option_list:\n",
    "    print(\"Invalid option \\nEnter a valid option\")\n",
    "elif option == 'H':\n",
    "    print(\"\"\"\n",
    "    \n",
    "    THE FOLLOWING ARE OPTIONS IN THE PROGRAM WITH THEIR SHORT DESCRIPTION.\n",
    "    \n",
    "            READ (R) - This option load in a PDB file that is present in the data diretory.\n",
    "\n",
    "            SEARCH (S) - Gives a list of PDB files already loaded in the system.\\n\n",
    "                         It gives the number of glycoslation sites present in the\n",
    "                         file choosen and display sequence with glycoslation motifs \n",
    "                         shown in lower case and the rest in upper case.\n",
    "\n",
    "            WRITE (W) -  This option write out a file of a given name by the user depending\n",
    "                         on the following sub-option chosen;\\n\n",
    "                                  1. Write out coordinate file \n",
    "                                       a. All atom \n",
    "                                       b. Backbone atoms \n",
    "                                       c. Alpha carbon atoms only \n",
    "                                  2.Write out sequence (Fasta format) \n",
    "                                       1. SEQRES Sequence\n",
    "                                       2. Coordinate Sequence\n",
    "                                       3. Alignment Sequence \n",
    "\n",
    "            INFORMATION (I) - This option has sub-options for:\\n\n",
    "                                1. Displaying coordinate sequence\n",
    "                                2. Displaying SEQRES sequence \n",
    "                                3. Displaying Alignment sequence\n",
    "                                4. Displaying all non-water ligands in the protein\n",
    "\n",
    "            ALIGNMENT (A) - Creates and write to a file an alignment of two PDB sequence from two chosen files.\\n\n",
    "\n",
    "            HELP (H) - This option display all the options in the program with their description.\\n\n",
    "\n",
    "            QUIT (Q) - Terminate the program.\\n\n",
    "            \n",
    "            THANK YOU...\n",
    "            \n",
    "            \"\"\")"
   ]
  }
 ],
 "metadata": {
  "kernelspec": {
   "display_name": "Python 3",
   "language": "python",
   "name": "python3"
  },
  "language_info": {
   "codemirror_mode": {
    "name": "ipython",
    "version": 3
   },
   "file_extension": ".py",
   "mimetype": "text/x-python",
   "name": "python",
   "nbconvert_exporter": "python",
   "pygments_lexer": "ipython3",
   "version": "3.7.4"
  }
 },
 "nbformat": 4,
 "nbformat_minor": 4
}
