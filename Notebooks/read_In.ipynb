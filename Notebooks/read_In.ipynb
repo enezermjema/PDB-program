{
 "cells": [
  {
   "cell_type": "markdown",
   "metadata": {},
   "source": [
    "- The code below is for loading PDB files into the program."
   ]
  },
  {
   "cell_type": "code",
   "execution_count": null,
   "metadata": {},
   "outputs": [],
   "source": [
    "print( \"\"\"\n",
    "OPTIONS: \n",
    "        READ (R)\n",
    "        \n",
    "        SEARCH (S)\n",
    "        \n",
    "        WRITE (W)\n",
    "        \n",
    "        INFORMATION (I)\n",
    "        \n",
    "        ALIGNMENT (A)\n",
    "        \n",
    "        HELP (H)\n",
    "        \n",
    "        QUIT (Q)\n",
    "\"\"\")    \n",
    "\n",
    "global option\n",
    "option = input(\":\") \n",
    "option_list = ['R','S','W','I','A','H','Q']\n",
    "\n",
    "if option not in option_list:\n",
    "    print(\"Invalid option \\nEnter a valid option\")\n",
    "elif option == 'R':\n",
    "    #file_path = []\n",
    "    file_list = []\n",
    "    import os.path\n",
    "    global file\n",
    "    global path\n",
    "    file = input(\"Enter the name of the PDB file: \")\n",
    "    path = \"/home/enezer/python-mini-project-enezermjema/data/\"\n",
    "    global filepath\n",
    "    filepath = path + file\n",
    "    if os.path.exists(filepath) == True:\n",
    "        print(\"File has been successful loaded\")\n",
    "        #file_list.append(file)\n",
    "        file_path.append(filepath)\n",
    "    else:\n",
    "        print(\"The file does not exist \\nPlease enter a valid name\")"
   ]
  },
  {
   "cell_type": "code",
   "execution_count": null,
   "metadata": {},
   "outputs": [],
   "source": []
  }
 ],
 "metadata": {
  "kernelspec": {
   "display_name": "Python 3",
   "language": "python",
   "name": "python3"
  },
  "language_info": {
   "codemirror_mode": {
    "name": "ipython",
    "version": 3
   },
   "file_extension": ".py",
   "mimetype": "text/x-python",
   "name": "python",
   "nbconvert_exporter": "python",
   "pygments_lexer": "ipython3",
   "version": "3.7.4"
  }
 },
 "nbformat": 4,
 "nbformat_minor": 4
}
