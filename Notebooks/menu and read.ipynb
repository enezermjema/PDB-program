{
 "cells": [
  {
   "cell_type": "markdown",
   "metadata": {},
   "source": [
    "# **PDB Software.**"
   ]
  },
  {
   "cell_type": "markdown",
   "metadata": {},
   "source": [
    "### Creating main menu..."
   ]
  },
  {
   "cell_type": "code",
   "execution_count": null,
   "metadata": {},
   "outputs": [],
   "source": [
    "print( \"\"\"\n",
    "\n",
    "OPTIONS: \n",
    "        READ (R)\n",
    "        \n",
    "        SEARCH (S)\n",
    "        \n",
    "        WRITE (W)\n",
    "        \n",
    "        INFORMATION (I)\n",
    "        \n",
    "        ALIGNMENT (A)\n",
    "        \n",
    "        HELP (H)\n",
    "        \n",
    "        QUIT (Q)\n",
    "\"\"\")    \n",
    "\n",
    "global option\n",
    "option = input(\":\") \n",
    "#input(\"Please enter 'R' for read, 'S' for search, 'W' for write, 'I' for Information, 'A' for alignment, 'H' for Help or 'Q' for quit option: \")        "
   ]
  },
  {
   "cell_type": "markdown",
   "metadata": {},
   "source": [
    "### Menu function."
   ]
  },
  {
   "cell_type": "code",
   "execution_count": null,
   "metadata": {},
   "outputs": [],
   "source": [
    "def menu():\n",
    "    print( \"\"\"\n",
    "    OPTIONS: \n",
    "            READ (R)\n",
    "\n",
    "            SEARCH (S)\n",
    "\n",
    "            WRITE (W)\n",
    "\n",
    "            INFORMATION (I)\n",
    "\n",
    "            ALIGNMENT (A)\n",
    "\n",
    "            HELP (H)\n",
    "\n",
    "            QUIT (Q)\n",
    "    \"\"\")    \n",
    "    global option\n",
    "    option = input(\":\") \n",
    "    #input(\"Please enter 'R' for read, 'S' for search, 'W' for write, 'I' for Information, 'A' for alignment, 'H' for Help or 'Q' for quit option: \")        \n",
    "    option_list = [\"R\", \"S\", \"W\", \"I\", \"A\", \"H\", \"Q\"]\n",
    "    if option not in option_list:\n",
    "        print(\"Invalid option \\nEnter a valid option\")\n",
    "        menu()"
   ]
  },
  {
   "cell_type": "markdown",
   "metadata": {},
   "source": [
    "* Menu and read in codes"
   ]
  },
  {
   "cell_type": "code",
   "execution_count": null,
   "metadata": {},
   "outputs": [],
   "source": [
    "print( \"\"\"\n",
    "\n",
    "OPTIONS: \n",
    "        READ (R)\n",
    "        \n",
    "        SEARCH (S)\n",
    "        \n",
    "        WRITE (W)\n",
    "        \n",
    "        INFORMATION (I)\n",
    "        \n",
    "        ALIGNMENT (A)\n",
    "        \n",
    "        HELP (H)\n",
    "        \n",
    "        QUIT (Q)\n",
    "\"\"\")    \n",
    "\n",
    "global option\n",
    "option = input(\":\") \n",
    "#input(\"Please enter 'R' for read, 'S' for search, 'W' for write, 'I' for Information, 'A' for alignment, 'H' for Help or 'Q' for quit option: \")        \n",
    "\n",
    "option_list = [\"R\", \"S\", \"W\", \"I\", \"A\", \"H\", \"Q\"]\n",
    "if option not in option_list:\n",
    "    print(\"Invalid option \\nEnter a valid option\")\n",
    "elif option == 'R':\n",
    "    #file_path = []\n",
    "    file_list = []\n",
    "    import os.path\n",
    "    global file\n",
    "    global path\n",
    "    file = input(\"Enter the name of the PDB file: \")\n",
    "    path = \"/home/enezer/python-mini-project-enezermjema/data/\"\n",
    "    global filepath\n",
    "    filepath = path + file\n",
    "    if os.path.exists(filepath) == True:\n",
    "        print(\"File has been successful loaded\")\n",
    "        #file_list.append(file)\n",
    "        file_path.append(filepath)\n",
    "    else:\n",
    "        print(\"The file does not exist \\nPlease enter a valid name\")"
   ]
  },
  {
   "cell_type": "code",
   "execution_count": null,
   "metadata": {},
   "outputs": [],
   "source": [
    "def menu():\n",
    "    print( \"\"\"\n",
    "    OPTIONS: \n",
    "            READ (R)\n",
    "\n",
    "            SEARCH (S)\n",
    "\n",
    "            WRITE (W)\n",
    "\n",
    "            INFORMATION (I)\n",
    "\n",
    "            ALIGNMENT (A)\n",
    "\n",
    "            HELP (H)\n",
    "\n",
    "            QUIT (Q)\n",
    "    \"\"\")    \n",
    "    global option\n",
    "    option = input(\":\") \n",
    "    #input(\"Please enter 'R' for read, 'S' for search, 'W' for write, 'I' for Information, 'A' for alignment, 'H' for Help or 'Q' for quit option: \")        \n",
    "    option_list = [\"R\", \"S\", \"W\", \"I\", \"A\", \"H\", \"Q\"]\n",
    "    if option not in option_list:\n",
    "        print(\"Invalid option \\nEnter a valid option\")\n",
    "        menu()\n"
   ]
  },
  {
   "cell_type": "markdown",
   "metadata": {},
   "source": [
    "* Playing with Read in code"
   ]
  },
  {
   "cell_type": "code",
   "execution_count": null,
   "metadata": {},
   "outputs": [],
   "source": [
    "import os.path\n",
    "global file_path\n",
    "#global path\n",
    "file_path = input(\"Enter the name of the PDB file: \")\n",
    "#path = \"/home/enezer/python-mini-project-enezermjema/data/\"\n",
    "#global filepath\n",
    "#filepath = path + file\n",
    "if os.path.exists(filepath) == True:\n",
    "    print(\"File has been successful loaded\")\n",
    "    #file_list.append(file)\n",
    "    file_path.append(filepath)\n",
    "else:\n",
    "    print(\"The file does not exist \\nPlease enter a valid name\")"
   ]
  },
  {
   "cell_type": "code",
   "execution_count": null,
   "metadata": {},
   "outputs": [],
   "source": [
    "import os.path\n",
    "global file_path\n",
    "file_list = []\n",
    "global file_list\n",
    "file_path = input(\"Enter the path to the PDB file: \")\n",
    "if os.path.exists(file_path) == True:\n",
    "    print(\"File has been successful loaded\")\n",
    "    file_list.append(file_path)\n",
    "else:\n",
    "    print(\"The path provided does not exit \\nPlease enter a valid path\")\n",
    "    file_path = input(\"Enter the path to the PDB file: \")"
   ]
  },
  {
   "cell_type": "code",
   "execution_count": null,
   "metadata": {},
   "outputs": [],
   "source": [
    "elif option == 'R':\n",
    "    import os.path\n",
    "    global file_path\n",
    "    file_list = []\n",
    "    global file_list\n",
    "    file_path = input(\"Enter the path to the PDB file: \")\n",
    "    if os.path.exists(file_path) == True:\n",
    "        print(\"File has been successful loaded\")\n",
    "        file_list.append(file_path)\n",
    "    else:\n",
    "        print(\"The path provided does not exit \\nPlease enter a valid path\")\n",
    "        file_path = input(\"Enter the path to the PDB file: \")  "
   ]
  },
  {
   "cell_type": "code",
   "execution_count": 1,
   "metadata": {},
   "outputs": [],
   "source": [
    "def menu():\n",
    "    print( \"\"\"\n",
    "    OPTIONS: \n",
    "            READ (R)\n",
    "\n",
    "            SEARCH (S)\n",
    "\n",
    "            WRITE (W)\n",
    "\n",
    "            INFORMATION (I)\n",
    "\n",
    "            ALIGNMENT (A)\n",
    "\n",
    "            HELP (H)\n",
    "\n",
    "            QUIT (Q)\n",
    "    \"\"\")    \n",
    "    global option\n",
    "    option = input(\":\") \n",
    "    #input(\"Please enter 'R' for read, 'S' for search, 'W' for write, 'I' for Information, 'A' for alignment, 'H' for Help or 'Q' for quit option: \")        \n",
    "    option_list = [\"R\", \"S\", \"W\", \"I\", \"A\", \"H\", \"Q\"]\n",
    "    if option not in option_list:\n",
    "        print(\"Invalid option \\nEnter a valid option\")\n",
    "        menu()\n",
    "        \n",
    "    elif option == 'R':\n",
    "        def read_In():\n",
    "            import os.path\n",
    "            global file_path\n",
    "            global file_list\n",
    "            file_list = []\n",
    "            file_path = input(\"Enter the path to the PDB file: \")\n",
    "            if os.path.exists(file_path) == True:\n",
    "                print(\"File has been successful loaded\")\n",
    "                file_list.append(file_path)\n",
    "            else:\n",
    "                print(\"The path provided does not exit \\nPlease enter a valid path\")\n",
    "                file_path = input(\"Enter the path to the PDB file: \")  \n"
   ]
  },
  {
   "cell_type": "code",
   "execution_count": 2,
   "metadata": {},
   "outputs": [
    {
     "name": "stdout",
     "output_type": "stream",
     "text": [
      "\n",
      "    OPTIONS: \n",
      "            READ (R)\n",
      "\n",
      "            SEARCH (S)\n",
      "\n",
      "            WRITE (W)\n",
      "\n",
      "            INFORMATION (I)\n",
      "\n",
      "            ALIGNMENT (A)\n",
      "\n",
      "            HELP (H)\n",
      "\n",
      "            QUIT (Q)\n",
      "    \n"
     ]
    },
    {
     "name": "stdin",
     "output_type": "stream",
     "text": [
      ": R\n"
     ]
    }
   ],
   "source": [
    "menu()"
   ]
  },
  {
   "cell_type": "code",
   "execution_count": null,
   "metadata": {},
   "outputs": [],
   "source": []
  }
 ],
 "metadata": {
  "kernelspec": {
   "display_name": "Python 3",
   "language": "python",
   "name": "python3"
  },
  "language_info": {
   "codemirror_mode": {
    "name": "ipython",
    "version": 3
   },
   "file_extension": ".py",
   "mimetype": "text/x-python",
   "name": "python",
   "nbconvert_exporter": "python",
   "pygments_lexer": "ipython3",
   "version": "3.7.4"
  }
 },
 "nbformat": 4,
 "nbformat_minor": 4
}
